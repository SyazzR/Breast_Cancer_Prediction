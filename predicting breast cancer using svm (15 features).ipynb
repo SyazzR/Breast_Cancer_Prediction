{
 "cells": [
  {
   "cell_type": "code",
   "execution_count": null,
   "id": "5b01703d",
   "metadata": {},
   "outputs": [],
   "source": [
    "import pandas as pd\n",
    "import numpy as np\n",
    "import seaborn as sns \n",
    "import matplotlib.pyplot as plt\n",
    "from sklearn.decomposition import PCA\n",
    "from sklearn.preprocessing import StandardScaler\n",
    "from sklearn.model_selection import train_test_split\n",
    "from sklearn.svm import SVC\n",
    "from sklearn.metrics import classification_report\n",
    "from sklearn.metrics import confusion_matrix\n",
    "import os"
   ]
  },
  {
   "cell_type": "code",
   "execution_count": null,
   "id": "a89dcdbb",
   "metadata": {},
   "outputs": [],
   "source": [
    "df = pd.read_csv(r'C:\\Users\\Acer\\Documents\\HC00\\FYP\\Raw Data\\data_15feature.csv')\n",
    "df.shape"
   ]
  },
  {
   "cell_type": "code",
   "execution_count": null,
   "id": "4873c5e0",
   "metadata": {},
   "outputs": [],
   "source": [
    "df.dtypes"
   ]
  },
  {
   "cell_type": "code",
   "execution_count": null,
   "id": "25aa684c",
   "metadata": {},
   "outputs": [],
   "source": [
    "df.head()"
   ]
  },
  {
   "cell_type": "code",
   "execution_count": null,
   "id": "0510e720",
   "metadata": {},
   "outputs": [],
   "source": [
    "#loading predictor into dataframe 'X'\n",
    "X = df.iloc[:, 1:31]\n",
    "print(X.shape)\n",
    "X.head()"
   ]
  },
  {
   "cell_type": "code",
   "execution_count": null,
   "id": "5c70b235",
   "metadata": {},
   "outputs": [],
   "source": [
    "#loading target values into dataframe 'y'\n",
    "y = df.diagnosis\n",
    "print(y.shape)\n",
    "y.head()"
   ]
  },
  {
   "cell_type": "code",
   "execution_count": null,
   "id": "fc73e4a1",
   "metadata": {},
   "outputs": [],
   "source": [
    "#converting categorical data to numerical data\n",
    "y_num =pd.get_dummies(y)\n",
    "y_num.head()"
   ]
  },
  {
   "cell_type": "code",
   "execution_count": null,
   "id": "34d9a7cb",
   "metadata": {},
   "outputs": [],
   "source": [
    "#use only one column for target value, that is M column\n",
    "y=y_num.M\n",
    "print(y.shape)\n",
    "y.head()"
   ]
  },
  {
   "cell_type": "markdown",
   "id": "6306face",
   "metadata": {},
   "source": [
    "## Split Data to training and testing"
   ]
  },
  {
   "cell_type": "code",
   "execution_count": null,
   "id": "00fe6794",
   "metadata": {},
   "outputs": [],
   "source": [
    "X_train, X_test, y_train, y_test = train_test_split(X, y, test_size=0.25, random_state=0)\n",
    "print(\"X_train shape \",X_train.shape)\n",
    "print(\"y_train shape \",y_train.shape)\n",
    "print(\"X_test shape \",X_test.shape)\n",
    "print(\"y_test shape \",y_test.shape)"
   ]
  },
  {
   "cell_type": "markdown",
   "id": "c6a2758e",
   "metadata": {},
   "source": [
    "## Model fitting "
   ]
  },
  {
   "cell_type": "code",
   "execution_count": null,
   "id": "358b823f",
   "metadata": {},
   "outputs": [],
   "source": [
    "#model fitting\n",
    "svc = SVC()\n",
    "svc.fit(X_train, y_train)"
   ]
  },
  {
   "cell_type": "code",
   "execution_count": null,
   "id": "b2604996",
   "metadata": {},
   "outputs": [],
   "source": [
    "#predict values\n",
    "y_pred_svc =svc.predict(X_test)\n",
    "y_pred_svc.shape"
   ]
  },
  {
   "cell_type": "code",
   "execution_count": null,
   "id": "f5e0486c",
   "metadata": {},
   "outputs": [],
   "source": [
    "#print confusion matrix\n",
    "cm = confusion_matrix(y_test, y_pred_svc)\n",
    "print(\"Confusion matrix:\\n\",cm)"
   ]
  },
  {
   "cell_type": "code",
   "execution_count": null,
   "id": "1daaa14f",
   "metadata": {},
   "outputs": [],
   "source": [
    "#print classification report\n",
    "creport = classification_report(y_test, y_pred_svc)\n",
    "print(\"Classification report:\\n\",creport)"
   ]
  },
  {
   "cell_type": "markdown",
   "id": "19609965",
   "metadata": {},
   "source": [
    "## save model\n"
   ]
  },
  {
   "cell_type": "code",
   "execution_count": null,
   "id": "53e49981",
   "metadata": {},
   "outputs": [],
   "source": [
    "import pickle\n",
    "with open('model.pkl', 'wb') as file:\n",
    "    pickle.dump(svc, file)"
   ]
  },
  {
   "cell_type": "code",
   "execution_count": null,
   "id": "782b46dc",
   "metadata": {},
   "outputs": [],
   "source": []
  }
 ],
 "metadata": {
  "kernelspec": {
   "display_name": "Python 3 (ipykernel)",
   "language": "python",
   "name": "python3"
  },
  "language_info": {
   "codemirror_mode": {
    "name": "ipython",
    "version": 3
   },
   "file_extension": ".py",
   "mimetype": "text/x-python",
   "name": "python",
   "nbconvert_exporter": "python",
   "pygments_lexer": "ipython3",
   "version": "3.9.12"
  }
 },
 "nbformat": 4,
 "nbformat_minor": 5
}
